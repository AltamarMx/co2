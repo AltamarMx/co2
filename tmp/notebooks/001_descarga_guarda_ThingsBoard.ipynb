{
 "cells": [
  {
   "cell_type": "code",
   "execution_count": 1,
   "metadata": {},
   "outputs": [],
   "source": [
    "import pandas as pd\n",
    "import numpy as np\n",
    "import matplotlib.pyplot as plt\n",
    "from dateutil.parser import parse\n",
    "from tb import *"
   ]
  },
  {
   "cell_type": "code",
   "execution_count": 2,
   "metadata": {},
   "outputs": [
    {
     "name": "stdout",
     "output_type": "stream",
     "text": [
      "[\"cdm4160\",\"cjmcu811\",\"dummy\",\"eco2\",\"etvoc\",\"fatal\",\"heartbeat\",\"loadavg1\",\"loadavg15\",\"loadavg5\",\"mg811\",\"mh-z14a\",\"notice\",\"s8lp\",\"scd30\",\"sen0219\",\"sen0219avg\",\"sen0219cma\",\"sen0220\",\"t3022\",\"uptime\",\"uptime-linux\"]\n"
     ]
    }
   ],
   "source": [
    "tb = TB(config_file='config_gbv.ini',device_name='CO2')"
   ]
  },
  {
   "cell_type": "code",
   "execution_count": 9,
   "metadata": {},
   "outputs": [],
   "source": [
    "sensores = [\"sen0220\"]\n",
    "# sensores = [\"s8lp\",\"sen0220\",\"scd30\"]\n",
    "\n",
    "# sensores = [\"cdm4160\",\"cjmcu811\",\"sen0219\",\"t3022\",\"mh-z14a\",\"sen0220\",\"s8lp\"]\n",
    "datos = pd.concat([tb.get_df(key=sensor,\n",
    "                             start_datetime=\"2021-09-22\",\n",
    "                             end_datetime=\"2021-10-02\") for sensor in sensores],axis=1)\n",
    "# print(datos.head())\n",
    "datos.index = datos.index + pd.Timedelta(\"-5H\")\n"
   ]
  },
  {
   "cell_type": "code",
   "execution_count": 10,
   "metadata": {},
   "outputs": [
    {
     "data": {
      "text/plain": [
       "<AxesSubplot:xlabel='ts'>"
      ]
     },
     "execution_count": 10,
     "metadata": {},
     "output_type": "execute_result"
    },
    {
     "data": {
      "image/png": "[encoded data removed]",
      "text/plain": [
       "<Figure size 432x288 with 1 Axes>"
      ]
     },
     "metadata": {
      "needs_background": "light"
     },
     "output_type": "display_data"
    }
   ],
   "source": [
    "datos.plot()"
   ]
  },
  {
   "cell_type": "code",
   "execution_count": 11,
   "metadata": {},
   "outputs": [],
   "source": [
    "datos.to_csv(\"../../data/SEN0220.csv\")"
   ]
  },
  {
   "cell_type": "code",
   "execution_count": null,
   "metadata": {},
   "outputs": [],
   "source": [
    "# sensores = [\"cdm4160\",\"cjmcu811\",\"sen0219\",\"t3022\",\"mh-z14a\",\"sen0220\",\"s8lp\"]\n",
    "sensores = [\"s8lp\",\"sen0220\",\"t3022\",\"scd30\"]\n",
    "# ref = \"fluke\"\n",
    "\n",
    "fig, ax = plt.subplots(figsize=(10,3))\n",
    "\n",
    "fecha1 = parse(\"2021-07-20 14:25\") \n",
    "fecha2 = fecha1 + pd.Timedelta(\"3H\")\n",
    "ax.set_xlim(fecha1,fecha2)\n",
    "\n",
    "ax.set_ylim(300,1000)\n",
    "ax.set_ylabel(\"CO2 [ppm]\")\n",
    "ax.set_xlabel(\"tiempo\")\n",
    "ax.set_title(\"Sensores\")\n",
    "ax.grid()\n",
    "\n",
    "for sensor in sensores:\n",
    "    ax.scatter(datos[sensor].index,datos[sensor],label=sensor,alpha=0.2)\n",
    "\n",
    "ax.legend()\n",
    "\n"
   ]
  },
  {
   "cell_type": "code",
   "execution_count": null,
   "metadata": {},
   "outputs": [],
   "source": [
    "#corta los datos de la fecha inicial al final\n",
    "datos = datos.truncate(before=\"2021-07-20 14:30:04\",after=\"2021-07-20 15:31:04\")\n",
    "datos"
   ]
  },
  {
   "cell_type": "code",
   "execution_count": null,
   "metadata": {},
   "outputs": [],
   "source": [
    "# sensores = [\"cdm4160\",\"cjmcu811\",\"sen0219\",\"t3022\",\"mh-z14a\",\"sen0220\",\"s8lp\"]\n",
    "sensores = [\"s8lp\",\"sen0220\",\"t3022\",\"scd30\"]\n",
    "# ref = \"fluke\"\n",
    "\n",
    "fig, ax = plt.subplots(figsize=(10,3))\n",
    "\n",
    "# fecha1 = parse(\"2021-07-20 14:25\") \n",
    "# fecha2 = fecha1 + pd.Timedelta(\"3H\")\n",
    "# ax.set_xlim(fecha1,fecha2)\n",
    "\n",
    "ax.set_ylim(300,1000)\n",
    "ax.set_ylabel(\"CO2 [ppm]\")\n",
    "ax.set_xlabel(\"tiempo\")\n",
    "ax.set_title(\"Sensores\")\n",
    "ax.grid()\n",
    "\n",
    "for sensor in sensores:\n",
    "    ax.scatter(datos[sensor].index,datos[sensor],label=sensor,alpha=0.2)\n",
    "\n",
    "ax.legend()\n",
    "\n"
   ]
  },
  {
   "cell_type": "code",
   "execution_count": null,
   "metadata": {},
   "outputs": [],
   "source": [
    "#ajustar fecha si es necesario\n",
    "datos.to_csv(\"../data/sensores_20-07-2021.csv\")"
   ]
  },
  {
   "cell_type": "code",
   "execution_count": null,
   "metadata": {},
   "outputs": [],
   "source": []
  },
  {
   "cell_type": "code",
   "execution_count": null,
   "metadata": {},
   "outputs": [],
   "source": []
  }
 ],
 "metadata": {
  "kernelspec": {
   "display_name": "Python 3",
   "language": "python",
   "name": "python3"
  },
  "language_info": {
   "codemirror_mode": {
    "name": "ipython",
    "version": 3
   },
   "file_extension": ".py",
   "mimetype": "text/x-python",
   "name": "python",
   "nbconvert_exporter": "python",
   "pygments_lexer": "ipython3",
   "version": "3.9.7"
  }
 },
 "nbformat": 4,
 "nbformat_minor": 4
}

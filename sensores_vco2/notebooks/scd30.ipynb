{
 "cells": [
  {
   "cell_type": "code",
   "execution_count": 6,
   "metadata": {},
   "outputs": [],
   "source": [
    "import pandas as pd\n",
    "import matplotlib.pyplot as plt\n",
    "from dateutil.parser import parse"
   ]
  },
  {
   "cell_type": "code",
   "execution_count": 7,
   "metadata": {},
   "outputs": [],
   "source": [
    "def importa_fluke(archivo):\n",
    "    tmp = pd.read_csv(archivo,usecols=[7,11],names=[\"fluke\",\"tiempo\"],skiprows=1)\n",
    "    tmp.tiempo = pd.to_datetime(tmp.tiempo,dayfirst=True)\n",
    "    tmp.set_index(\"tiempo\",inplace=True)\n",
    "    tmp.fluke = tmp.fluke.str.replace(\" ppm\",\"\")\n",
    "    tmp.fluke = tmp.fluke.astype(\"float64\")\n",
    "    return tmp\n",
    "\n",
    "def variable(df,sensor=\"fluke\"):\n",
    "    tmp = pd.DataFrame(df[sensor])\n",
    "    tmp.dropna(inplace=True)\n",
    "    return tmp\n"
   ]
  },
  {
   "cell_type": "code",
   "execution_count": 8,
   "metadata": {},
   "outputs": [
    {
     "data": {
      "text/html": [
       "<div>\n",
       "<style scoped>\n",
       "    .dataframe tbody tr th:only-of-type {\n",
       "        vertical-align: middle;\n",
       "    }\n",
       "\n",
       "    .dataframe tbody tr th {\n",
       "        vertical-align: top;\n",
       "    }\n",
       "\n",
       "    .dataframe thead th {\n",
       "        text-align: right;\n",
       "    }\n",
       "</style>\n",
       "<table border=\"1\" class=\"dataframe\">\n",
       "  <thead>\n",
       "    <tr style=\"text-align: right;\">\n",
       "      <th></th>\n",
       "      <th>fluke</th>\n",
       "    </tr>\n",
       "    <tr>\n",
       "      <th>tiempo</th>\n",
       "      <th></th>\n",
       "    </tr>\n",
       "  </thead>\n",
       "  <tbody>\n",
       "    <tr>\n",
       "      <th>2021-07-20 14:30:04</th>\n",
       "      <td>469.0</td>\n",
       "    </tr>\n",
       "    <tr>\n",
       "      <th>2021-07-20 14:30:34</th>\n",
       "      <td>469.0</td>\n",
       "    </tr>\n",
       "    <tr>\n",
       "      <th>2021-07-20 14:31:04</th>\n",
       "      <td>486.0</td>\n",
       "    </tr>\n",
       "  </tbody>\n",
       "</table>\n",
       "</div>"
      ],
      "text/plain": [
       "                     fluke\n",
       "tiempo                    \n",
       "2021-07-20 14:30:04  469.0\n",
       "2021-07-20 14:30:34  469.0\n",
       "2021-07-20 14:31:04  486.0"
      ]
     },
     "execution_count": 8,
     "metadata": {},
     "output_type": "execute_result"
    }
   ],
   "source": [
    "archivo = \"../../data/fluke_20-07-2021_prueba.csv\"\n",
    "fluke = importa_fluke(archivo)\n",
    "fluke.head(3)\n"
   ]
  },
  {
   "cell_type": "code",
   "execution_count": 9,
   "metadata": {},
   "outputs": [
    {
     "data": {
      "text/html": [
       "<div>\n",
       "<style scoped>\n",
       "    .dataframe tbody tr th:only-of-type {\n",
       "        vertical-align: middle;\n",
       "    }\n",
       "\n",
       "    .dataframe tbody tr th {\n",
       "        vertical-align: top;\n",
       "    }\n",
       "\n",
       "    .dataframe thead th {\n",
       "        text-align: right;\n",
       "    }\n",
       "</style>\n",
       "<table border=\"1\" class=\"dataframe\">\n",
       "  <thead>\n",
       "    <tr style=\"text-align: right;\">\n",
       "      <th></th>\n",
       "      <th>scd30</th>\n",
       "      <th>derivada</th>\n",
       "      <th>tiempo</th>\n",
       "      <th>transcurrido</th>\n",
       "    </tr>\n",
       "    <tr>\n",
       "      <th>ts</th>\n",
       "      <th></th>\n",
       "      <th></th>\n",
       "      <th></th>\n",
       "      <th></th>\n",
       "    </tr>\n",
       "  </thead>\n",
       "  <tbody>\n",
       "    <tr>\n",
       "      <th>2021-07-20 14:30:19.894</th>\n",
       "      <td>462.0</td>\n",
       "      <td>NaN</td>\n",
       "      <td>2021-07-20 14:30:19.894</td>\n",
       "      <td>0 days 00:00:00</td>\n",
       "    </tr>\n",
       "    <tr>\n",
       "      <th>2021-07-20 14:31:22.968</th>\n",
       "      <td>577.0</td>\n",
       "      <td>115.0</td>\n",
       "      <td>2021-07-20 14:31:22.968</td>\n",
       "      <td>0 days 00:01:03.074000</td>\n",
       "    </tr>\n",
       "    <tr>\n",
       "      <th>2021-07-20 14:32:26.114</th>\n",
       "      <td>685.0</td>\n",
       "      <td>108.0</td>\n",
       "      <td>2021-07-20 14:32:26.114</td>\n",
       "      <td>0 days 00:02:06.220000</td>\n",
       "    </tr>\n",
       "  </tbody>\n",
       "</table>\n",
       "</div>"
      ],
      "text/plain": [
       "                         scd30  derivada                  tiempo  \\\n",
       "ts                                                                 \n",
       "2021-07-20 14:30:19.894  462.0       NaN 2021-07-20 14:30:19.894   \n",
       "2021-07-20 14:31:22.968  577.0     115.0 2021-07-20 14:31:22.968   \n",
       "2021-07-20 14:32:26.114  685.0     108.0 2021-07-20 14:32:26.114   \n",
       "\n",
       "                                  transcurrido  \n",
       "ts                                              \n",
       "2021-07-20 14:30:19.894        0 days 00:00:00  \n",
       "2021-07-20 14:31:22.968 0 days 00:01:03.074000  \n",
       "2021-07-20 14:32:26.114 0 days 00:02:06.220000  "
      ]
     },
     "execution_count": 9,
     "metadata": {},
     "output_type": "execute_result"
    }
   ],
   "source": [
    "tb = pd.read_csv(\"../../data/sensores_20-07-2021.csv\",index_col=0,parse_dates=True)\n",
    "nombre = \"scd30\"\n",
    "sensor = variable(tb,nombre)\n",
    "sensor['derivada'] = sensor.diff().rolling(\"60S\").mean()\n",
    "sensor[\"tiempo\"]       = sensor.index\n",
    "sensor[\"transcurrido\"] = sensor.tiempo - sensor.tiempo.iloc[0] \n",
    "# del sensor[\"tiempo\"]\n",
    "sensor.head(3)"
   ]
  },
  {
   "cell_type": "code",
   "execution_count": 10,
   "metadata": {},
   "outputs": [
    {
     "data": {
      "image/png": "[encoded data removed]",
      "text/plain": [
       "<Figure size 1296x720 with 2 Axes>"
      ]
     },
     "metadata": {
      "needs_background": "light"
     },
     "output_type": "display_data"
    }
   ],
   "source": [
    "figuras = 2\n",
    "fig, ax = plt.subplots(figuras,figsize=(18,10),sharex=True)\n",
    "\n",
    "fecha1 = parse(\"2021-07-20 14:25\") \n",
    "fecha2 = fecha1 + pd.Timedelta(\"70min\")\n",
    "\n",
    "ax[0].set_xlim(fecha1,fecha2)\n",
    "ax[0].set_ylim(400,1000)\n",
    "\n",
    "ax[0].plot(sensor.rolling(\"1S\").mean(),\"ko\",label=nombre)\n",
    "ax[0].plot(fluke.rolling(\"1S\").mean(),\"g.\",label=\"fluke\",alpha=0.5)\n",
    "\n",
    "ax[1].plot(sensor.derivada,\"ko\",label=nombre)\n",
    "\n",
    "for figura in range(figuras):\n",
    "    ax[figura].grid()\n",
    "    ax[figura].legend()"
   ]
  },
  {
   "cell_type": "markdown",
   "metadata": {},
   "source": [
    "# El TR es \n"
   ]
  },
  {
   "cell_type": "code",
   "execution_count": 11,
   "metadata": {},
   "outputs": [
    {
     "data": {
      "text/html": [
       "<div>\n",
       "<style scoped>\n",
       "    .dataframe tbody tr th:only-of-type {\n",
       "        vertical-align: middle;\n",
       "    }\n",
       "\n",
       "    .dataframe tbody tr th {\n",
       "        vertical-align: top;\n",
       "    }\n",
       "\n",
       "    .dataframe thead th {\n",
       "        text-align: right;\n",
       "    }\n",
       "</style>\n",
       "<table border=\"1\" class=\"dataframe\">\n",
       "  <thead>\n",
       "    <tr style=\"text-align: right;\">\n",
       "      <th></th>\n",
       "      <th>scd30</th>\n",
       "      <th>derivada</th>\n",
       "      <th>tiempo</th>\n",
       "      <th>transcurrido</th>\n",
       "    </tr>\n",
       "    <tr>\n",
       "      <th>ts</th>\n",
       "      <th></th>\n",
       "      <th></th>\n",
       "      <th></th>\n",
       "      <th></th>\n",
       "    </tr>\n",
       "  </thead>\n",
       "  <tbody>\n",
       "    <tr>\n",
       "      <th>2021-07-20 14:37:41.510</th>\n",
       "      <td>812.0</td>\n",
       "      <td>0.0</td>\n",
       "      <td>2021-07-20 14:37:41.510</td>\n",
       "      <td>0 days 00:07:21.616000</td>\n",
       "    </tr>\n",
       "  </tbody>\n",
       "</table>\n",
       "</div>"
      ],
      "text/plain": [
       "                         scd30  derivada                  tiempo  \\\n",
       "ts                                                                 \n",
       "2021-07-20 14:37:41.510  812.0       0.0 2021-07-20 14:37:41.510   \n",
       "\n",
       "                                  transcurrido  \n",
       "ts                                              \n",
       "2021-07-20 14:37:41.510 0 days 00:07:21.616000  "
      ]
     },
     "execution_count": 11,
     "metadata": {},
     "output_type": "execute_result"
    }
   ],
   "source": [
    "sensor[sensor.derivada<=0].head(1)"
   ]
  },
  {
   "cell_type": "markdown",
   "metadata": {},
   "source": [
    "# < M > "
   ]
  },
  {
   "cell_type": "code",
   "execution_count": 12,
   "metadata": {},
   "outputs": [
    {
     "data": {
      "text/html": [
       "<div>\n",
       "<style scoped>\n",
       "    .dataframe tbody tr th:only-of-type {\n",
       "        vertical-align: middle;\n",
       "    }\n",
       "\n",
       "    .dataframe tbody tr th {\n",
       "        vertical-align: top;\n",
       "    }\n",
       "\n",
       "    .dataframe thead th {\n",
       "        text-align: right;\n",
       "    }\n",
       "</style>\n",
       "<table border=\"1\" class=\"dataframe\">\n",
       "  <thead>\n",
       "    <tr style=\"text-align: right;\">\n",
       "      <th></th>\n",
       "      <th>scd30</th>\n",
       "      <th>derivada</th>\n",
       "    </tr>\n",
       "    <tr>\n",
       "      <th>ts</th>\n",
       "      <th></th>\n",
       "      <th></th>\n",
       "    </tr>\n",
       "  </thead>\n",
       "  <tbody>\n",
       "    <tr>\n",
       "      <th>2021-07-20 15:29:12.210</th>\n",
       "      <td>853.8</td>\n",
       "      <td>2.4</td>\n",
       "    </tr>\n",
       "    <tr>\n",
       "      <th>2021-07-20 15:30:15.288</th>\n",
       "      <td>858.0</td>\n",
       "      <td>4.2</td>\n",
       "    </tr>\n",
       "  </tbody>\n",
       "</table>\n",
       "</div>"
      ],
      "text/plain": [
       "                         scd30  derivada\n",
       "ts                                      \n",
       "2021-07-20 15:29:12.210  853.8       2.4\n",
       "2021-07-20 15:30:15.288  858.0       4.2"
      ]
     },
     "execution_count": 12,
     "metadata": {},
     "output_type": "execute_result"
    }
   ],
   "source": [
    "sensor.rolling(\"5Min\").mean().tail(2)"
   ]
  },
  {
   "cell_type": "markdown",
   "metadata": {},
   "source": [
    " #  < D_r > "
   ]
  },
  {
   "cell_type": "code",
   "execution_count": 14,
   "metadata": {},
   "outputs": [
    {
     "data": {
      "text/html": [
       "<div>\n",
       "<style scoped>\n",
       "    .dataframe tbody tr th:only-of-type {\n",
       "        vertical-align: middle;\n",
       "    }\n",
       "\n",
       "    .dataframe tbody tr th {\n",
       "        vertical-align: top;\n",
       "    }\n",
       "\n",
       "    .dataframe thead th {\n",
       "        text-align: right;\n",
       "    }\n",
       "</style>\n",
       "<table border=\"1\" class=\"dataframe\">\n",
       "  <thead>\n",
       "    <tr style=\"text-align: right;\">\n",
       "      <th></th>\n",
       "      <th>fluke</th>\n",
       "    </tr>\n",
       "    <tr>\n",
       "      <th>tiempo</th>\n",
       "      <th></th>\n",
       "    </tr>\n",
       "  </thead>\n",
       "  <tbody>\n",
       "    <tr>\n",
       "      <th>2021-07-20 15:31:04</th>\n",
       "      <td>893.9</td>\n",
       "    </tr>\n",
       "  </tbody>\n",
       "</table>\n",
       "</div>"
      ],
      "text/plain": [
       "                     fluke\n",
       "tiempo                    \n",
       "2021-07-20 15:31:04  893.9"
      ]
     },
     "execution_count": 14,
     "metadata": {},
     "output_type": "execute_result"
    }
   ],
   "source": [
    "fluke.rolling(\"5Min\").mean().tail(1)"
   ]
  },
  {
   "cell_type": "markdown",
   "metadata": {},
   "source": [
    "#  Error"
   ]
  },
  {
   "cell_type": "code",
   "execution_count": 15,
   "metadata": {},
   "outputs": [
    {
     "data": {
      "text/plain": [
       "array([35.9])"
      ]
     },
     "execution_count": 15,
     "metadata": {},
     "output_type": "execute_result"
    }
   ],
   "source": [
    "fluke.fluke.rolling(\"5Min\").mean().tail(1).values - sensor[nombre].rolling(\"5Min\").mean().tail(1).values "
   ]
  },
  {
   "cell_type": "code",
   "execution_count": null,
   "metadata": {},
   "outputs": [],
   "source": []
  }
 ],
 "metadata": {
  "kernelspec": {
   "display_name": "Python 3",
   "language": "python",
   "name": "python3"
  },
  "language_info": {
   "codemirror_mode": {
    "name": "ipython",
    "version": 3
   },
   "file_extension": ".py",
   "mimetype": "text/x-python",
   "name": "python",
   "nbconvert_exporter": "python",
   "pygments_lexer": "ipython3",
   "version": "3.8.5"
  }
 },
 "nbformat": 4,
 "nbformat_minor": 4
}

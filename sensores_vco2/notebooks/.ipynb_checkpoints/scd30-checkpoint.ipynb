{
 "cells": [
  {
   "cell_type": "code",
   "execution_count": 1,
   "metadata": {},
   "outputs": [],
   "source": [
    "import pandas as pd\n",
    "import matplotlib.pyplot as plt\n",
    "from dateutil.parser import parse"
   ]
  },
  {
   "cell_type": "code",
   "execution_count": 2,
   "metadata": {},
   "outputs": [],
   "source": [
    "def importa_fluke(archivo):\n",
    "    tmp = pd.read_csv(archivo,usecols=[7,11],names=[\"fluke\",\"tiempo\"],skiprows=1)\n",
    "    tmp.tiempo = pd.to_datetime(tmp.tiempo,dayfirst=True)\n",
    "    tmp.set_index(\"tiempo\",inplace=True)\n",
    "    tmp.fluke = tmp.fluke.str.replace(\" ppm\",\"\")\n",
    "    tmp.fluke = tmp.fluke.astype(\"float64\")\n",
    "    return tmp\n",
    "\n"
   ]
  },
  {
   "cell_type": "code",
   "execution_count": 3,
   "metadata": {},
   "outputs": [],
   "source": [
    "archivo = \"../../data/fluke_20-07-2021_prueba.csv\"\n",
    "fluke = importa_fluke(archivo)\n",
    "# fluke.head(3)\n"
   ]
  },
  {
   "cell_type": "code",
   "execution_count": 4,
   "metadata": {},
   "outputs": [],
   "source": [
    "tb = pd.read_csv(\"../../data/sensores_20-07-2021.csv\",index_col=0,parse_dates=True)\n",
    "\n"
   ]
  },
  {
   "cell_type": "code",
   "execution_count": 5,
   "metadata": {},
   "outputs": [],
   "source": [
    "intervalo = \"1S\"\n",
    "def analiza_sensor(df,fluke,sensor=\"None\",intervalo=\"1S\",\n",
    "                   int_promedio=\"5Min\"):\n",
    "    tmp = pd.DataFrame(df[sensor])\n",
    "    tmp.dropna(inplace=True)\n",
    "    tmp[\"derivada\"]     = tmp.diff().rolling(intervalo).mean()\n",
    "    tmp[\"tiempo\"]       = tmp.index\n",
    "    tmp[\"transcurrido\"] = tmp.tiempo - tmp.tiempo.iloc[0]\n",
    "    \n",
    "    grafica_sensor(tmp,fluke,intervalo)\n",
    "    \n",
    "#     tmp[tmp.derivada<=0].head(1).values\n",
    "    resultados = obtiene_resultados(tmp,sensor,int_promedio)\n",
    "    return resultados\n",
    "\n",
    "\n",
    "def grafica_sensor(df,fluke,intervalo):\n",
    "    fig, ax = plt.subplots(2,figsize=(12,10),sharex=True)\n",
    "    nombre = df.columns\n",
    "    ax[0].plot(df[nombre[0]].rolling(intervalo).mean(),\"go\",label=nombre[0])\n",
    "    ax[0].plot(fluke.fluke.rolling(intervalo).mean(),\"ro\",label='fluke')\n",
    "    ax[0].set_ylabel(\"$CO_2$ [ppm]\")\n",
    "    ax[1].plot(df.derivada,\"ko\",label=nombre[0])\n",
    "    ax[1].set_ylabel(\"$\\dfrac{d CO_2}{dt}$\")\n",
    "    ax[1].set_xlabel(\"Fecha [dd hh:mm]\")\n",
    "    for figura in range(2):\n",
    "        ax[figura].grid()\n",
    "        ax[figura].legend() \n",
    "def obtiene_resultados(tmp,sensor,int_promedio):\n",
    "    TR  = tmp.transcurrido[tmp.derivada<=0]  \n",
    "    M   = tmp[sensor].rolling(int_promedio).mean()\n",
    "    D_r = fluke.fluke.rolling(int_promedio).mean() \n",
    "    Error= M.iloc[-1] - D_r.iloc[-1]\n",
    "    nombre = str(int(D_r.iloc[-1]))+ 'ppm'\n",
    "    my_dict= {\"TR+\":TR.iloc[0],  \n",
    "              \"M\":M[-1],\n",
    "              \"D_r\":D_r.iloc[-1],\n",
    "              \"Error\":Error\n",
    "             }\n",
    "    resultados = pd.DataFrame(list(my_dict.items()),columns = ['Variable',nombre]) \n",
    "    resultados.set_index(\"Variable\",inplace=True)\n",
    "    return resultados\n"
   ]
  },
  {
   "cell_type": "code",
   "execution_count": 6,
   "metadata": {},
   "outputs": [
    {
     "data": {
      "text/html": [
       "<div>\n",
       "<style scoped>\n",
       "    .dataframe tbody tr th:only-of-type {\n",
       "        vertical-align: middle;\n",
       "    }\n",
       "\n",
       "    .dataframe tbody tr th {\n",
       "        vertical-align: top;\n",
       "    }\n",
       "\n",
       "    .dataframe thead th {\n",
       "        text-align: right;\n",
       "    }\n",
       "</style>\n",
       "<table border=\"1\" class=\"dataframe\">\n",
       "  <thead>\n",
       "    <tr style=\"text-align: right;\">\n",
       "      <th></th>\n",
       "      <th>893ppm</th>\n",
       "    </tr>\n",
       "    <tr>\n",
       "      <th>Variable</th>\n",
       "      <th></th>\n",
       "    </tr>\n",
       "  </thead>\n",
       "  <tbody>\n",
       "    <tr>\n",
       "      <th>TR+</th>\n",
       "      <td>0 days 00:07:21.616000</td>\n",
       "    </tr>\n",
       "    <tr>\n",
       "      <th>M</th>\n",
       "      <td>858.0</td>\n",
       "    </tr>\n",
       "    <tr>\n",
       "      <th>D_r</th>\n",
       "      <td>893.9</td>\n",
       "    </tr>\n",
       "    <tr>\n",
       "      <th>Error</th>\n",
       "      <td>-35.9</td>\n",
       "    </tr>\n",
       "  </tbody>\n",
       "</table>\n",
       "</div>"
      ],
      "text/plain": [
       "                          893ppm\n",
       "Variable                        \n",
       "TR+       0 days 00:07:21.616000\n",
       "M                          858.0\n",
       "D_r                        893.9\n",
       "Error                      -35.9"
      ]
     },
     "execution_count": 6,
     "metadata": {},
     "output_type": "execute_result"
    },
    {
     "data": {
      "image/png": "[encoded data removed]",
      "text/plain": [
       "<Figure size 864x720 with 2 Axes>"
      ]
     },
     "metadata": {
      "needs_background": "light"
     },
     "output_type": "display_data"
    }
   ],
   "source": [
    "analiza_sensor(tb,fluke,sensor=\"scd30\")"
   ]
  },
  {
   "cell_type": "code",
   "execution_count": null,
   "metadata": {},
   "outputs": [],
   "source": []
  }
 ],
 "metadata": {
  "kernelspec": {
   "display_name": "Python 3",
   "language": "python",
   "name": "python3"
  },
  "language_info": {
   "codemirror_mode": {
    "name": "ipython",
    "version": 3
   },
   "file_extension": ".py",
   "mimetype": "text/x-python",
   "name": "python",
   "nbconvert_exporter": "python",
   "pygments_lexer": "ipython3",
   "version": "3.8.5"
  }
 },
 "nbformat": 4,
 "nbformat_minor": 4
}

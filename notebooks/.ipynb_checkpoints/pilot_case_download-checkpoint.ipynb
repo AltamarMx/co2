{
 "cells": [
  {
   "cell_type": "code",
   "execution_count": 1,
   "metadata": {},
   "outputs": [],
   "source": [
    "import pandas as pd\n",
    "import numpy as np\n",
    "import matplotlib.pyplot as plt\n",
    "from dateutil.parser import parse\n",
    "from tb import *"
   ]
  },
  {
   "cell_type": "code",
   "execution_count": 2,
   "metadata": {},
   "outputs": [
    {
     "name": "stdout",
     "output_type": "stream",
     "text": [
      "[\"cdm4160\",\"cjmcu811\",\"dummy\",\"eco2\",\"etvoc\",\"fatal\",\"heartbeat\",\"loadavg1\",\"loadavg15\",\"loadavg5\",\"mg811\",\"mh-z14a\",\"notice\",\"s8lp\",\"scd30\",\"sen0219\",\"sen0219avg\",\"sen0219cma\",\"sen0220\",\"t3022\",\"uptime\",\"uptime-linux\"]\n"
     ]
    }
   ],
   "source": [
    "tb = TB(config_file='config_gbv.ini',device_name='CO2')"
   ]
  },
  {
   "cell_type": "code",
   "execution_count": null,
   "metadata": {},
   "outputs": [],
   "source": [
    "sensores = [\"s8lp\",\"sen0220\",\"scd30\"]\n",
    "fecha1 = parse(\"2021-07-24\")\n",
    "fecha2 = fecha1 + pd.Timedelta(\"1D\")\n",
    "datos = pd.concat([tb.get_df(key=sensor,start_datetime=fecha1,end_datetime=fecha2) for sensor in sensores],axis=1)\n",
    "datos.index = datos.index + pd.Timedelta(\"-5H\")\n",
    "datos.tail()\n"
   ]
  },
  {
   "cell_type": "code",
   "execution_count": null,
   "metadata": {},
   "outputs": [],
   "source": [
    "fig, ax = plt.subplots(figsize=(15,10))\n",
    "\n",
    "fecha1 = parse(\"2021-07-26 13:59:20\") \n",
    "fecha2 = fecha1 + pd.Timedelta(\"40Min\")\n",
    "ax.set_xlim(fecha1,fecha2)\n",
    "\n",
    "ax.set_ylim(300,1000)\n",
    "ax.set_ylabel(\"CO2 [ppm]\")\n",
    "ax.set_xlabel(\"tiempo\")\n",
    "ax.set_title(\"Sensores\")\n",
    "ax.grid()\n",
    "\n",
    "for sensor in sensores:\n",
    "    ax.scatter(datos[sensor].index,datos[sensor],label=sensor)\n",
    "\n",
    "ax.legend()\n"
   ]
  },
  {
   "cell_type": "code",
   "execution_count": null,
   "metadata": {},
   "outputs": [],
   "source": [
    "datos= datos[fecha1:]\n",
    "# datos.plot()"
   ]
  },
  {
   "cell_type": "code",
   "execution_count": null,
   "metadata": {},
   "outputs": [],
   "source": [
    "sensores800ppm = datos[\"2021-07-26 13:59:25\":'2021-07-26 14:35']\n",
    "sensores800ppm.sen0220.dropna().plot(figsize=(20,10))\n",
    "sensores800ppm.to_csv(\"../data/sensores_26-07-2021_800ppm.csv\")"
   ]
  },
  {
   "cell_type": "code",
   "execution_count": null,
   "metadata": {},
   "outputs": [],
   "source": [
    "sensores625ppm = datos['2021-07-26 14:51':'2021-07-26 15:29']\n",
    "sensores625ppm.scd30.dropna().plot(figsize=(20,10))\n",
    "sensores625ppm.to_csv(\"../data/sensores_26-07-2021_625ppm.csv\")"
   ]
  },
  {
   "cell_type": "code",
   "execution_count": null,
   "metadata": {},
   "outputs": [],
   "source": [
    "sensores750ppm = datos['2021-07-26 15:42':'2021-07-26 16:19']\n",
    "sensores750ppm.sen0220.dropna().plot()\n",
    "sensores750ppm.to_csv(\"../data/sensores_26-07-2021_750ppm.csv\")"
   ]
  },
  {
   "cell_type": "code",
   "execution_count": null,
   "metadata": {},
   "outputs": [],
   "source": [
    "sensores520ppm = datos['2021-07-26 16:32':'2021-07-26 16:59']\n",
    "sensores520ppm.sen0220.dropna().plot()\n",
    "sensores520ppm.to_csv(\"../data/sensores_26-07-2021_520ppm.csv\")"
   ]
  },
  {
   "cell_type": "code",
   "execution_count": null,
   "metadata": {},
   "outputs": [],
   "source": []
  }
 ],
 "metadata": {
  "kernelspec": {
   "display_name": "Python 3",
   "language": "python",
   "name": "python3"
  },
  "language_info": {
   "codemirror_mode": {
    "name": "ipython",
    "version": 3
   },
   "file_extension": ".py",
   "mimetype": "text/x-python",
   "name": "python",
   "nbconvert_exporter": "python",
   "pygments_lexer": "ipython3",
   "version": "3.9.7"
  }
 },
 "nbformat": 4,
 "nbformat_minor": 4
}

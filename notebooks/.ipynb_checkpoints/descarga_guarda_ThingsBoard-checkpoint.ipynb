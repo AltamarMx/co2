{
 "cells": [
  {
   "cell_type": "code",
   "execution_count": 1,
   "metadata": {},
   "outputs": [],
   "source": [
    "import pandas as pd\n",
    "import numpy as np\n",
    "import matplotlib.pyplot as plt\n",
    "from dateutil.parser import parse"
   ]
  },
  {
   "cell_type": "code",
   "execution_count": 2,
   "metadata": {},
   "outputs": [],
   "source": [
    "from tb import *"
   ]
  },
  {
   "cell_type": "code",
   "execution_count": 3,
   "metadata": {},
   "outputs": [
    {
     "name": "stdout",
     "output_type": "stream",
     "text": [
      "[\"CDM4160\",\"CJMCU-811\",\"CJMCU811\",\"Humedad\",\"Temperatura\",\"eco2\",\"etvoc\"]\n"
     ]
    }
   ],
   "source": [
    "tb = TB(config_file='config_gbv.ini',device_name='CO2')"
   ]
  },
  {
   "cell_type": "code",
   "execution_count": 9,
   "metadata": {},
   "outputs": [
    {
     "name": "stdout",
     "output_type": "stream",
     "text": [
      "[\"co2ppm\",\"lm35\",\"ntc10k\",\"ntc10k_R\",\"tmp36\",\"uptime\"]\n"
     ]
    }
   ],
   "source": [
    "sn = TB(config_file='config_gbv.ini',device_name='SEN')"
   ]
  },
  {
   "cell_type": "code",
   "execution_count": 10,
   "metadata": {},
   "outputs": [],
   "source": [
    "sen = sn.get_df(key=\"co2ppm\")\n",
    "sen = sen.resample(\"60S\").pad()\n",
    "sen.dropna(inplace=True,axis=0)\n"
   ]
  },
  {
   "cell_type": "code",
   "execution_count": null,
   "metadata": {},
   "outputs": [],
   "source": [
    "cmd = tb.get_df(key=\"CDM4160\")\n",
    "cmd = cmd.resample(\"60S\").pad()\n",
    "cmd.dropna(inplace=True,axis=0)"
   ]
  },
  {
   "cell_type": "code",
   "execution_count": 12,
   "metadata": {},
   "outputs": [],
   "source": [
    "# cjm = tb.get_df(key=\"CJMCU811\")\n",
    "# cjm = cjm.resample(\"60S\").pad()\n",
    "# cjm.dropna(inplace=True,axis=0)\n"
   ]
  },
  {
   "cell_type": "code",
   "execution_count": 13,
   "metadata": {},
   "outputs": [
    {
     "data": {
      "text/html": [
       "<div>\n",
       "<style scoped>\n",
       "    .dataframe tbody tr th:only-of-type {\n",
       "        vertical-align: middle;\n",
       "    }\n",
       "\n",
       "    .dataframe tbody tr th {\n",
       "        vertical-align: top;\n",
       "    }\n",
       "\n",
       "    .dataframe thead th {\n",
       "        text-align: right;\n",
       "    }\n",
       "</style>\n",
       "<table border=\"1\" class=\"dataframe\">\n",
       "  <thead>\n",
       "    <tr style=\"text-align: right;\">\n",
       "      <th></th>\n",
       "      <th>CDM4160</th>\n",
       "      <th>co2ppm</th>\n",
       "    </tr>\n",
       "    <tr>\n",
       "      <th>ts</th>\n",
       "      <th></th>\n",
       "      <th></th>\n",
       "    </tr>\n",
       "  </thead>\n",
       "  <tbody>\n",
       "    <tr>\n",
       "      <th>2021-06-09 18:20:00</th>\n",
       "      <td>472.0</td>\n",
       "      <td>NaN</td>\n",
       "    </tr>\n",
       "    <tr>\n",
       "      <th>2021-06-09 18:21:00</th>\n",
       "      <td>472.0</td>\n",
       "      <td>NaN</td>\n",
       "    </tr>\n",
       "    <tr>\n",
       "      <th>2021-06-09 18:22:00</th>\n",
       "      <td>472.0</td>\n",
       "      <td>NaN</td>\n",
       "    </tr>\n",
       "    <tr>\n",
       "      <th>2021-06-09 18:23:00</th>\n",
       "      <td>472.0</td>\n",
       "      <td>NaN</td>\n",
       "    </tr>\n",
       "    <tr>\n",
       "      <th>2021-06-09 18:24:00</th>\n",
       "      <td>472.0</td>\n",
       "      <td>NaN</td>\n",
       "    </tr>\n",
       "    <tr>\n",
       "      <th>...</th>\n",
       "      <td>...</td>\n",
       "      <td>...</td>\n",
       "    </tr>\n",
       "    <tr>\n",
       "      <th>2021-06-10 16:12:00</th>\n",
       "      <td>NaN</td>\n",
       "      <td>5117.24</td>\n",
       "    </tr>\n",
       "    <tr>\n",
       "      <th>2021-06-10 16:13:00</th>\n",
       "      <td>NaN</td>\n",
       "      <td>5229.30</td>\n",
       "    </tr>\n",
       "    <tr>\n",
       "      <th>2021-06-10 16:14:00</th>\n",
       "      <td>NaN</td>\n",
       "      <td>5324.41</td>\n",
       "    </tr>\n",
       "    <tr>\n",
       "      <th>2021-06-10 16:15:00</th>\n",
       "      <td>NaN</td>\n",
       "      <td>5154.42</td>\n",
       "    </tr>\n",
       "    <tr>\n",
       "      <th>2021-06-10 16:16:00</th>\n",
       "      <td>NaN</td>\n",
       "      <td>5138.59</td>\n",
       "    </tr>\n",
       "  </tbody>\n",
       "</table>\n",
       "<p>11296 rows × 2 columns</p>\n",
       "</div>"
      ],
      "text/plain": [
       "                     CDM4160   co2ppm\n",
       "ts                                   \n",
       "2021-06-09 18:20:00    472.0      NaN\n",
       "2021-06-09 18:21:00    472.0      NaN\n",
       "2021-06-09 18:22:00    472.0      NaN\n",
       "2021-06-09 18:23:00    472.0      NaN\n",
       "2021-06-09 18:24:00    472.0      NaN\n",
       "...                      ...      ...\n",
       "2021-06-10 16:12:00      NaN  5117.24\n",
       "2021-06-10 16:13:00      NaN  5229.30\n",
       "2021-06-10 16:14:00      NaN  5324.41\n",
       "2021-06-10 16:15:00      NaN  5154.42\n",
       "2021-06-10 16:16:00      NaN  5138.59\n",
       "\n",
       "[11296 rows x 2 columns]"
      ]
     },
     "execution_count": 13,
     "metadata": {},
     "output_type": "execute_result"
    }
   ],
   "source": [
    "datos = pd.concat([cmd,sen],axis=0)\n",
    "datos"
   ]
  },
  {
   "cell_type": "code",
   "execution_count": 101,
   "metadata": {},
   "outputs": [
    {
     "data": {
      "text/plain": [
       "[<matplotlib.lines.Line2D at 0x7ff95340f790>]"
      ]
     },
     "execution_count": 101,
     "metadata": {},
     "output_type": "execute_result"
    },
    {
     "data": {
      "image/png": "[encoded data removed]",
      "text/plain": [
       "<Figure size 720x432 with 1 Axes>"
      ]
     },
     "metadata": {
      "needs_background": "light"
     },
     "output_type": "display_data"
    }
   ],
   "source": [
    "fig, ax = plt.subplots(figsize=(10,6))\n",
    "\n",
    "fecha1 = parse(\"2021-06-09\") \n",
    "fecha2 = fecha1 + pd.Timedelta(\"1D\")\n",
    "\n",
    "ax.set_xlim(fecha1,fecha2)\n",
    "ax.set_ylim(300,2000)\n",
    "ax.set_ylabel(\"CO2 [ppm]\")\n",
    "ax.set_xlabel(\"tiempo\")\n",
    "ax.set_title(\"Mediciones CO2\")\n",
    "\n",
    "ax.plot(datos.CDM4160,'g+')\n",
    "ax.plot(datos[\"CJMCU-811\"],'r.')\n"
   ]
  },
  {
   "cell_type": "code",
   "execution_count": 106,
   "metadata": {},
   "outputs": [
    {
     "data": {
      "text/plain": [
       "ts\n",
       "2021-06-09 18:20:00    472.0\n",
       "2021-06-09 18:21:00    472.0\n",
       "2021-06-09 18:22:00    472.0\n",
       "2021-06-09 18:23:00    472.0\n",
       "2021-06-09 18:24:00    472.0\n",
       "                       ...  \n",
       "2021-06-10 10:48:00      NaN\n",
       "2021-06-10 10:49:00      NaN\n",
       "2021-06-10 10:50:00      NaN\n",
       "2021-06-10 10:51:00      NaN\n",
       "2021-06-10 10:52:00      NaN\n",
       "Name: CDM4160, Length: 4589, dtype: float64"
      ]
     },
     "execution_count": 106,
     "metadata": {},
     "output_type": "execute_result"
    }
   ],
   "source": [
    "datos.CDM4160"
   ]
  },
  {
   "cell_type": "code",
   "execution_count": 16,
   "metadata": {},
   "outputs": [],
   "source": [
    "sen.co2ppm.to_csv(\"../data/sen.csv\")"
   ]
  },
  {
   "cell_type": "code",
   "execution_count": null,
   "metadata": {},
   "outputs": [],
   "source": []
  }
 ],
 "metadata": {
  "kernelspec": {
   "display_name": "Python 3",
   "language": "python",
   "name": "python3"
  },
  "language_info": {
   "codemirror_mode": {
    "name": "ipython",
    "version": 3
   },
   "file_extension": ".py",
   "mimetype": "text/x-python",
   "name": "python",
   "nbconvert_exporter": "python",
   "pygments_lexer": "ipython3",
   "version": "3.8.5"
  }
 },
 "nbformat": 4,
 "nbformat_minor": 4
}

{
 "cells": [
  {
   "cell_type": "code",
   "execution_count": 1,
   "metadata": {},
   "outputs": [],
   "source": [
    "import pandas as pd\n",
    "import matplotlib.pyplot as plt\n",
    "\n",
    "\n",
    "from dateutil.parser import parse"
   ]
  },
  {
   "cell_type": "code",
   "execution_count": 2,
   "metadata": {},
   "outputs": [],
   "source": [
    "# archivo = \"../../data/fluke_01-07-2021_05-07-2021.csv\"\n",
    "def importa_fluke(archivo):\n",
    "    tmp = pd.read_csv(archivo,usecols=[7,11],names=[\"fluke\",\"tiempo\"],skiprows=1)\n",
    "    tmp.tiempo = pd.to_datetime(tmp.tiempo,dayfirst=True)\n",
    "    tmp.set_index(\"tiempo\",inplace=True)\n",
    "    tmp.fluke = tmp.fluke.str.replace(\" ppm\",\"\")\n",
    "    tmp.fluke = tmp.fluke.astype(\"float64\")\n",
    "    return tmp\n"
   ]
  },
  {
   "cell_type": "code",
   "execution_count": 4,
   "metadata": {},
   "outputs": [],
   "source": [
    "archivo = \"../../data/fluke_ventilador_01.csv\"\n",
    "f1 = importa_fluke(archivo)\n",
    "\n",
    "archivo = \"../../data/fluke_ventilador_02.csv\"\n",
    "f2 = importa_fluke(archivo)\n",
    "\n",
    "archivo = \"../../data/fluke_ventilador_03.csv\"\n",
    "f3 = importa_fluke(archivo)\n",
    "\n",
    "archivo = \"../../data/fluke_ventilador_04.csv\"\n",
    "f4 = importa_fluke(archivo)\n",
    "\n"
   ]
  },
  {
   "cell_type": "code",
   "execution_count": 5,
   "metadata": {},
   "outputs": [
    {
     "data": {
      "text/plain": [
       "<AxesSubplot:xlabel='tiempo'>"
      ]
     },
     "execution_count": 5,
     "metadata": {},
     "output_type": "execute_result"
    },
    {
     "data": {
      "image/png": "[encoded data removed]",
      "text/plain": [
       "<Figure size 432x288 with 1 Axes>"
      ]
     },
     "metadata": {
      "needs_background": "light"
     },
     "output_type": "display_data"
    }
   ],
   "source": [
    "f = pd.concat([f1,f2,f3,f4],axis=1)\n"
   ]
  },
  {
   "cell_type": "code",
   "execution_count": null,
   "metadata": {},
   "outputs": [],
   "source": [
    "# sensors = pd.read_csv(\"../../data/sensores_01-07-2021_al_05-07-2021.csv\",index_col=0,parse_dates=True)\n",
    "# # sensores.index = sensores.index + pd.Timedelta(\"2H\")\n",
    "# sensors = sensors.resample(\"15S\").mean()\n",
    "# sensors.plot()\n",
    "# sensors.columns"
   ]
  },
  {
   "cell_type": "code",
   "execution_count": null,
   "metadata": {},
   "outputs": [],
   "source": [
    "datos = pd.concat([sensors,f1],axis=1)\n",
    "sensores = datos.columns\n",
    "# datos"
   ]
  },
  {
   "cell_type": "code",
   "execution_count": null,
   "metadata": {},
   "outputs": [],
   "source": [
    "sensores = ['s8lp', 'sen0220', 't3022', 'mh-z14a']\n",
    "ref = \"fluke\"\n",
    "# sensores eliminados 'cjmcu811',  'sen0219', 'cdm4160'\n",
    "fig, ax = plt.subplots(figsize=(20,4))\n",
    "\n",
    "# fecha1 = parse(\"2021-06-30 14:57\") \n",
    "# fecha2 = fecha1 + pd.Timedelta(\"40Min\")\n",
    "\n",
    "# ax.set_xlim(fecha1,fecha2)\n",
    "ax.set_ylim(300,1200)\n",
    "ax.set_ylabel(\"CO2 [ppm]\")\n",
    "ax.set_xlabel(\"tiempo [mm-dd H]\")\n",
    "ax.set_title(\"Mediciones CO2\")\n",
    "ax.plot(datos[ref],\"ko\",label=ref)\n",
    "for sensor in sensores:\n",
    "    ax.scatter(datos[sensor].index,datos[sensor],label=sensor)\n",
    "\n",
    "ax.legend()\n",
    "ax.grid()"
   ]
  },
  {
   "cell_type": "code",
   "execution_count": null,
   "metadata": {},
   "outputs": [],
   "source": [
    "cajahermetica = datos.loc[\"2021-07-01 15:35\":\"2021-07-02 18:00\"]\n",
    "cajahermetica.plot(figsize=(20,4))"
   ]
  },
  {
   "cell_type": "code",
   "execution_count": null,
   "metadata": {},
   "outputs": [],
   "source": [
    "ambiente = datos.loc[\"2021-07-02 18:00\":\"2021-07-05 10:00\"]\n",
    "ambiente.plot(figsize=(20,4))"
   ]
  },
  {
   "cell_type": "code",
   "execution_count": null,
   "metadata": {},
   "outputs": [],
   "source": [
    "cajahermetica.to_csv(\"../../data/cajahermetica800ppm.csv\")\n",
    "ambiente.to_csv(\"../../data/ambiente_001_2021-07-02_2021-07-05.csv\")\n",
    "# test600.to_csv(\"../../data/test600_30-06-2021.csv\")\n",
    "# test700.to_csv(\"../../data/test700_30-06-2021.csv\")\n",
    "# test900.to_csv(\"../../data/test900_30-06-2021.csv\")"
   ]
  },
  {
   "cell_type": "code",
   "execution_count": null,
   "metadata": {},
   "outputs": [],
   "source": []
  }
 ],
 "metadata": {
  "kernelspec": {
   "display_name": "Python 3",
   "language": "python",
   "name": "python3"
  },
  "language_info": {
   "codemirror_mode": {
    "name": "ipython",
    "version": 3
   },
   "file_extension": ".py",
   "mimetype": "text/x-python",
   "name": "python",
   "nbconvert_exporter": "python",
   "pygments_lexer": "ipython3",
   "version": "3.9.2"
  }
 },
 "nbformat": 4,
 "nbformat_minor": 4
}

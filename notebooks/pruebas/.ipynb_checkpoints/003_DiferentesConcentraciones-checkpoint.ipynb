{
 "cells": [
  {
   "cell_type": "code",
   "execution_count": 1,
   "metadata": {},
   "outputs": [],
   "source": [
    "import pandas as pd\n",
    "import matplotlib.pyplot as plt\n",
    "\n",
    "\n",
    "from dateutil.parser import parse"
   ]
  },
  {
   "cell_type": "code",
   "execution_count": 28,
   "metadata": {},
   "outputs": [
    {
     "name": "stdout",
     "output_type": "stream",
     "text": [
      "Using matplotlib backend: MacOSX\n"
     ]
    }
   ],
   "source": [
    "%matplotlib"
   ]
  },
  {
   "cell_type": "code",
   "execution_count": 29,
   "metadata": {},
   "outputs": [],
   "source": [
    "archivo = \"../../data/fluke_30-06-2021_prueba01.csv\"\n",
    "def importa_fluke(archivo):\n",
    "    tmp = pd.read_csv(archivo,usecols=[7,11],names=[\"fluke\",\"tiempo\"],skiprows=1)\n",
    "    tmp.tiempo = pd.to_datetime(tmp.tiempo,dayfirst=True)\n",
    "    tmp.set_index(\"tiempo\",inplace=True)\n",
    "    tmp.fluke = tmp.fluke.str.replace(\" ppm\",\"\")\n",
    "    tmp.fluke = tmp.fluke.astype(\"float64\")\n",
    "    return tmp\n"
   ]
  },
  {
   "cell_type": "code",
   "execution_count": 30,
   "metadata": {},
   "outputs": [],
   "source": [
    "f1 = importa_fluke(\"../../data/fluke_30-06-2021_prueba01.csv\")\n",
    "f2 = importa_fluke(\"../../data/fluke_30-06-2021_prueba02.csv\")\n",
    "f3 = importa_fluke(\"../../data/fluke_30-06-2021_prueba03.csv\")\n",
    "f4 = importa_fluke(\"../../data/fluke_30-06-2021_prueba04.csv\")"
   ]
  },
  {
   "cell_type": "code",
   "execution_count": 37,
   "metadata": {},
   "outputs": [
    {
     "data": {
      "text/plain": [
       "<AxesSubplot:xlabel='tiempo'>"
      ]
     },
     "execution_count": 37,
     "metadata": {},
     "output_type": "execute_result"
    }
   ],
   "source": [
    "fluke = pd.concat([f1,f2,f3,f4],axis=0)\n",
    "fluke = fluke.resample(\"15S\").mean()\n",
    "fluke.plot()"
   ]
  },
  {
   "cell_type": "code",
   "execution_count": 38,
   "metadata": {},
   "outputs": [],
   "source": [
    "# fluke"
   ]
  },
  {
   "cell_type": "code",
   "execution_count": null,
   "metadata": {},
   "outputs": [],
   "source": []
  }
 ],
 "metadata": {
  "kernelspec": {
   "display_name": "Python 3",
   "language": "python",
   "name": "python3"
  },
  "language_info": {
   "codemirror_mode": {
    "name": "ipython",
    "version": 3
   },
   "file_extension": ".py",
   "mimetype": "text/x-python",
   "name": "python",
   "nbconvert_exporter": "python",
   "pygments_lexer": "ipython3",
   "version": "3.8.5"
  }
 },
 "nbformat": 4,
 "nbformat_minor": 4
}

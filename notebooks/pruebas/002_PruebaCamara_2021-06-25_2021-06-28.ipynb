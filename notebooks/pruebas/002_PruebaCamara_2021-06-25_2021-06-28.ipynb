{
 "cells": [
  {
   "cell_type": "code",
   "execution_count": null,
   "metadata": {},
   "outputs": [],
   "source": [
    "import pandas as pd\n",
    "import matplotlib.pyplot as plt\n",
    "from dateutil.parser import parse\n",
    "import seaborn as sns\n",
    "import numpy as np"
   ]
  },
  {
   "cell_type": "code",
   "execution_count": null,
   "metadata": {},
   "outputs": [],
   "source": [
    "#importa datos el fluke\n",
    "fluke = pd.read_csv(\"../../data/fluke_25062021_28062021.csv\",encoding=\"iso-8859-1\",\n",
    "                    skiprows=13,usecols=[7,11],\n",
    "                    names=[\"fluke\",\"tiempo\"],)\n",
    "fluke.tiempo = pd.to_datetime(fluke.tiempo,format=\"%d/%m/%Y %H:%M\")\n",
    "fluke.set_index(\"tiempo\",inplace=True)\n",
    "fluke.fluke = fluke.fluke.str.replace(\"ppm\",\"\")\n",
    "fluke.fluke = fluke.fluke.astype(\"float64\")\n",
    "fluke = fluke[~fluke.index.duplicated()]\n",
    "#fluke.info()\n",
    "# fluke[\"fluke_std\"] = fluke.fluke.std()\n",
    "fluke = fluke.resample(\"60S\").mean()\n",
    "fluke"
   ]
  },
  {
   "cell_type": "code",
   "execution_count": null,
   "metadata": {},
   "outputs": [],
   "source": [
    "#importa datos del aranet4\n",
    "\n",
    "aranet = pd.read_csv(\"../../data/aranet4_2021-06-28T12_08_22.csv\",index_col=0,parse_dates=True,\n",
    "                    names=[\"aranet\",\"To\",\"HR\",\"P\"],skiprows=1)\n",
    "\n",
    "aranet = aranet.resample(\"60S\").mean()\n",
    "aranet"
   ]
  },
  {
   "cell_type": "code",
   "execution_count": null,
   "metadata": {},
   "outputs": [],
   "source": [
    "camara = pd.read_csv(\"../../data/sensores_20210625_20210628.csv\",index_col=0,parse_dates=True)\n",
    "camara = camara.resample(\"60S\").mean()\n",
    "camara"
   ]
  },
  {
   "cell_type": "code",
   "execution_count": null,
   "metadata": {},
   "outputs": [],
   "source": [
    "# camara.columns\n",
    "sensores = ['t3022', 'mh-z14a', 'sen0219', 'cdm4160', 'cjmcu811', 'sen0220']"
   ]
  },
  {
   "cell_type": "code",
   "execution_count": null,
   "metadata": {},
   "outputs": [],
   "source": [
    "data = pd.concat([fluke[\"fluke\"],aranet.aranet,camara[sensores]],axis=1)\n",
    "\n",
    "data.plot(subplots=True)\n",
    "# data.aranet - data.sen0219"
   ]
  },
  {
   "cell_type": "code",
   "execution_count": null,
   "metadata": {},
   "outputs": [],
   "source": [
    "data = pd.concat([fluke[\"fluke\"],aranet.aranet,camara[sensores]],axis=1)\n",
    "\n",
    "ref = \"fluke\"\n",
    "\n",
    "\n",
    "fig, ax = plt.subplots(2,figsize=(20,10),sharex=True)\n",
    "\n",
    "fecha1 = parse(\"2021-06-25 15:00\") \n",
    "fecha2 = fecha1 + pd.Timedelta(\"2D 10H\")\n",
    "\n",
    "\n",
    "ax[0].set_ylim(300,2500)\n",
    "ax[0].set_ylabel(\"CO2 [ppm]\")\n",
    "ax[0].set_title(\"Mediciones CO2\")\n",
    "\n",
    "\n",
    "ax[0].set_xlim(fecha1,fecha2)\n",
    "ax[1].set_xlim(fecha1,fecha2)\n",
    "\n",
    "ax[1].set_ylim(-1000,500)\n",
    "ax[1].set_ylabel(\"Ref - Sensor CO2 [ppm]\")\n",
    "ax[1].set_xlabel(\"tiempo [mm-dd H]\")\n",
    "# ax[1].set_title(\"Mediciones CO2\")\n",
    "\n",
    "ax[0].plot(fluke.fluke,\"ro\",label=\"fluke\",alpha=0.5)\n",
    "for sensor in sensores:\n",
    "    ax[0].scatter(data[sensor].index,data[sensor],label=sensor,marker=\".\")\n",
    "\n",
    "\n",
    "for sensor in sensores:\n",
    "    ax[1].scatter(data.index,data[ref]-data[sensor],label=sensor)\n",
    "\n",
    "\n",
    "ax[1].legend()\n",
    "ax[1].grid()\n",
    "ax[0].legend()\n",
    "ax[0].grid()\n",
    "\n",
    "\n",
    "\n",
    "\n",
    "\n",
    "diferencia = {}\n",
    "data = data[fecha1:fecha2]\n",
    "for sensor in sensores:\n",
    "    valor = (data[fecha1:fecha2][ref] - data[fecha1:fecha2][sensor]).mean()\n",
    "    diferencia.update({sensor:[-valor]})\n"
   ]
  },
  {
   "cell_type": "code",
   "execution_count": null,
   "metadata": {},
   "outputs": [],
   "source": [
    "ref = \"fluke\"\n",
    "sensores = ['t3022', 'mh-z14a', 'sen0219', 'sen0220',\"aranet\"]\n",
    "diferencia = pd.concat([data[sensor]-data[ref] for sensor in sensores],axis=1)\n",
    "diferencia.columns = sensores"
   ]
  },
  {
   "cell_type": "code",
   "execution_count": null,
   "metadata": {},
   "outputs": [],
   "source": [
    "fig, ax = plt.subplots(figsize=(14, 8))\n",
    "\n",
    "\n",
    "ax.set_ylabel(\"Diferencia CO2 [ppm]\")\n",
    "ax.set_xlabel(\"Sensor [-]\")\n",
    "\n",
    "\n",
    "etiquetas = []\n",
    "# diferencias = []\n",
    "for i,sensor in enumerate(sensores):\n",
    "    valor = ax.bar(i+1,(data[ref]-data[sensor]).mean() , yerr=(data[ref]-data[sensor]).std(), align='center')\n",
    "    etiquetas.append(i+1)\n",
    "    ax.bar_label(valor,fmt=\"%.0f\")\n",
    "    \n",
    "\n",
    "ax.set_xticks(etiquetas)\n",
    "ax.set_xticklabels(sensores)\n",
    "ax.set_yticks(np.arange(-350,300,50))\n",
    "\n",
    "\n",
    "ax.grid()\n"
   ]
  },
  {
   "cell_type": "code",
   "execution_count": null,
   "metadata": {},
   "outputs": [],
   "source": []
  },
  {
   "cell_type": "code",
   "execution_count": null,
   "metadata": {},
   "outputs": [],
   "source": []
  }
 ],
 "metadata": {
  "kernelspec": {
   "display_name": "Python 3",
   "language": "python",
   "name": "python3"
  },
  "language_info": {
   "codemirror_mode": {
    "name": "ipython",
    "version": 3
   },
   "file_extension": ".py",
   "mimetype": "text/x-python",
   "name": "python",
   "nbconvert_exporter": "python",
   "pygments_lexer": "ipython3",
   "version": "3.8.5"
  }
 },
 "nbformat": 4,
 "nbformat_minor": 4
}

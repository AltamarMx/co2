{
 "cells": [
  {
   "cell_type": "code",
   "execution_count": 1,
   "metadata": {},
   "outputs": [],
   "source": [
    "import pandas as pd\n",
    "import numpy as np\n",
    "import matplotlib.pyplot as plt\n",
    "from dateutil.parser import parse\n",
    "from tb import *"
   ]
  },
  {
   "cell_type": "code",
   "execution_count": 2,
   "metadata": {},
   "outputs": [
    {
     "name": "stdout",
     "output_type": "stream",
     "text": [
      "[\"cdm4160\",\"cjmcu811\",\"fatal\",\"heartbeat\",\"loadavg1\",\"loadavg15\",\"loadavg5\",\"mh-z14a\",\"notice\",\"s8lp\",\"sen0219\",\"sen0219avg\",\"sen0219cma\",\"sen0220\",\"t3022\",\"uptime\",\"uptime-linux\"]\n"
     ]
    }
   ],
   "source": [
    "tb = TB(config_file='config_gbv.ini',device_name='CO2')"
   ]
  },
  {
   "cell_type": "code",
   "execution_count": 3,
   "metadata": {},
   "outputs": [
    {
     "data": {
      "text/html": [
       "<div>\n",
       "<style scoped>\n",
       "    .dataframe tbody tr th:only-of-type {\n",
       "        vertical-align: middle;\n",
       "    }\n",
       "\n",
       "    .dataframe tbody tr th {\n",
       "        vertical-align: top;\n",
       "    }\n",
       "\n",
       "    .dataframe thead th {\n",
       "        text-align: right;\n",
       "    }\n",
       "</style>\n",
       "<table border=\"1\" class=\"dataframe\">\n",
       "  <thead>\n",
       "    <tr style=\"text-align: right;\">\n",
       "      <th></th>\n",
       "      <th>mh-z14a</th>\n",
       "      <th>s8lp</th>\n",
       "      <th>sen0219</th>\n",
       "      <th>sen0220</th>\n",
       "      <th>t3022</th>\n",
       "    </tr>\n",
       "    <tr>\n",
       "      <th>ts</th>\n",
       "      <th></th>\n",
       "      <th></th>\n",
       "      <th></th>\n",
       "      <th></th>\n",
       "      <th></th>\n",
       "    </tr>\n",
       "  </thead>\n",
       "  <tbody>\n",
       "    <tr>\n",
       "      <th>2021-06-21 12:01:15.851</th>\n",
       "      <td>NaN</td>\n",
       "      <td>NaN</td>\n",
       "      <td>418.0</td>\n",
       "      <td>NaN</td>\n",
       "      <td>476.0</td>\n",
       "    </tr>\n",
       "    <tr>\n",
       "      <th>2021-06-21 12:02:18.325</th>\n",
       "      <td>NaN</td>\n",
       "      <td>NaN</td>\n",
       "      <td>712.0</td>\n",
       "      <td>NaN</td>\n",
       "      <td>474.0</td>\n",
       "    </tr>\n",
       "    <tr>\n",
       "      <th>2021-06-21 12:03:20.867</th>\n",
       "      <td>NaN</td>\n",
       "      <td>NaN</td>\n",
       "      <td>418.0</td>\n",
       "      <td>NaN</td>\n",
       "      <td>471.0</td>\n",
       "    </tr>\n",
       "    <tr>\n",
       "      <th>2021-06-21 12:04:23.419</th>\n",
       "      <td>NaN</td>\n",
       "      <td>NaN</td>\n",
       "      <td>590.0</td>\n",
       "      <td>NaN</td>\n",
       "      <td>471.0</td>\n",
       "    </tr>\n",
       "    <tr>\n",
       "      <th>2021-06-21 12:05:06.847</th>\n",
       "      <td>NaN</td>\n",
       "      <td>NaN</td>\n",
       "      <td>418.0</td>\n",
       "      <td>NaN</td>\n",
       "      <td>474.0</td>\n",
       "    </tr>\n",
       "  </tbody>\n",
       "</table>\n",
       "</div>"
      ],
      "text/plain": [
       "                         mh-z14a  s8lp  sen0219  sen0220  t3022\n",
       "ts                                                             \n",
       "2021-06-21 12:01:15.851      NaN   NaN    418.0      NaN  476.0\n",
       "2021-06-21 12:02:18.325      NaN   NaN    712.0      NaN  474.0\n",
       "2021-06-21 12:03:20.867      NaN   NaN    418.0      NaN  471.0\n",
       "2021-06-21 12:04:23.419      NaN   NaN    590.0      NaN  471.0\n",
       "2021-06-21 12:05:06.847      NaN   NaN    418.0      NaN  474.0"
      ]
     },
     "execution_count": 3,
     "metadata": {},
     "output_type": "execute_result"
    }
   ],
   "source": [
    "sensores = [\"mh-z14a\",\"s8lp\",\"sen0219\",\"sen0220\",\"t3022\"]\n",
    "\n",
    "# sensores = [\"cdm4160\",\"cjmcu811\",\"sen0219\",\"t3022\",\"mh-z14a\",\"sen0220\",\"s8lp\"]\n",
    "datos = pd.concat([tb.get_df(key=sensor) for sensor in sensores],axis=1)\n",
    "# print(datos.head())\n",
    "datos.index = datos.index + pd.Timedelta(\"-5H\")\n",
    "datos.head()"
   ]
  },
  {
   "cell_type": "code",
   "execution_count": 6,
   "metadata": {},
   "outputs": [
    {
     "data": {
      "text/html": [
       "<div>\n",
       "<style scoped>\n",
       "    .dataframe tbody tr th:only-of-type {\n",
       "        vertical-align: middle;\n",
       "    }\n",
       "\n",
       "    .dataframe tbody tr th {\n",
       "        vertical-align: top;\n",
       "    }\n",
       "\n",
       "    .dataframe thead th {\n",
       "        text-align: right;\n",
       "    }\n",
       "</style>\n",
       "<table border=\"1\" class=\"dataframe\">\n",
       "  <thead>\n",
       "    <tr style=\"text-align: right;\">\n",
       "      <th></th>\n",
       "      <th>mh-z14a</th>\n",
       "      <th>s8lp</th>\n",
       "      <th>sen0219</th>\n",
       "      <th>sen0220</th>\n",
       "      <th>t3022</th>\n",
       "    </tr>\n",
       "    <tr>\n",
       "      <th>ts</th>\n",
       "      <th></th>\n",
       "      <th></th>\n",
       "      <th></th>\n",
       "      <th></th>\n",
       "      <th></th>\n",
       "    </tr>\n",
       "  </thead>\n",
       "  <tbody>\n",
       "    <tr>\n",
       "      <th>2021-07-01 00:00:10.885</th>\n",
       "      <td>510.0</td>\n",
       "      <td>412.0</td>\n",
       "      <td>812.0</td>\n",
       "      <td>NaN</td>\n",
       "      <td>437.0</td>\n",
       "    </tr>\n",
       "    <tr>\n",
       "      <th>2021-07-01 00:00:26.451</th>\n",
       "      <td>509.0</td>\n",
       "      <td>412.0</td>\n",
       "      <td>653.0</td>\n",
       "      <td>NaN</td>\n",
       "      <td>436.0</td>\n",
       "    </tr>\n",
       "    <tr>\n",
       "      <th>2021-07-01 00:00:41.997</th>\n",
       "      <td>509.0</td>\n",
       "      <td>413.0</td>\n",
       "      <td>1025.0</td>\n",
       "      <td>NaN</td>\n",
       "      <td>435.0</td>\n",
       "    </tr>\n",
       "    <tr>\n",
       "      <th>2021-07-01 00:00:57.557</th>\n",
       "      <td>509.0</td>\n",
       "      <td>413.0</td>\n",
       "      <td>925.0</td>\n",
       "      <td>NaN</td>\n",
       "      <td>436.0</td>\n",
       "    </tr>\n",
       "    <tr>\n",
       "      <th>2021-07-01 00:01:13.133</th>\n",
       "      <td>509.0</td>\n",
       "      <td>414.0</td>\n",
       "      <td>703.0</td>\n",
       "      <td>NaN</td>\n",
       "      <td>436.0</td>\n",
       "    </tr>\n",
       "    <tr>\n",
       "      <th>...</th>\n",
       "      <td>...</td>\n",
       "      <td>...</td>\n",
       "      <td>...</td>\n",
       "      <td>...</td>\n",
       "      <td>...</td>\n",
       "    </tr>\n",
       "    <tr>\n",
       "      <th>2021-07-01 23:59:41.172</th>\n",
       "      <td>1014.0</td>\n",
       "      <td>830.0</td>\n",
       "      <td>1206.0</td>\n",
       "      <td>NaN</td>\n",
       "      <td>889.0</td>\n",
       "    </tr>\n",
       "    <tr>\n",
       "      <th>2021-07-01 23:59:44.108</th>\n",
       "      <td>NaN</td>\n",
       "      <td>NaN</td>\n",
       "      <td>NaN</td>\n",
       "      <td>814.0</td>\n",
       "      <td>NaN</td>\n",
       "    </tr>\n",
       "    <tr>\n",
       "      <th>2021-07-01 23:59:50.678</th>\n",
       "      <td>NaN</td>\n",
       "      <td>NaN</td>\n",
       "      <td>NaN</td>\n",
       "      <td>813.0</td>\n",
       "      <td>NaN</td>\n",
       "    </tr>\n",
       "    <tr>\n",
       "      <th>2021-07-01 23:59:56.821</th>\n",
       "      <td>1014.0</td>\n",
       "      <td>830.0</td>\n",
       "      <td>1568.0</td>\n",
       "      <td>NaN</td>\n",
       "      <td>888.0</td>\n",
       "    </tr>\n",
       "    <tr>\n",
       "      <th>2021-07-01 23:59:57.248</th>\n",
       "      <td>NaN</td>\n",
       "      <td>NaN</td>\n",
       "      <td>NaN</td>\n",
       "      <td>814.0</td>\n",
       "      <td>NaN</td>\n",
       "    </tr>\n",
       "  </tbody>\n",
       "</table>\n",
       "<p>10497 rows × 5 columns</p>\n",
       "</div>"
      ],
      "text/plain": [
       "                         mh-z14a   s8lp  sen0219  sen0220  t3022\n",
       "ts                                                              \n",
       "2021-07-01 00:00:10.885    510.0  412.0    812.0      NaN  437.0\n",
       "2021-07-01 00:00:26.451    509.0  412.0    653.0      NaN  436.0\n",
       "2021-07-01 00:00:41.997    509.0  413.0   1025.0      NaN  435.0\n",
       "2021-07-01 00:00:57.557    509.0  413.0    925.0      NaN  436.0\n",
       "2021-07-01 00:01:13.133    509.0  414.0    703.0      NaN  436.0\n",
       "...                          ...    ...      ...      ...    ...\n",
       "2021-07-01 23:59:41.172   1014.0  830.0   1206.0      NaN  889.0\n",
       "2021-07-01 23:59:44.108      NaN    NaN      NaN    814.0    NaN\n",
       "2021-07-01 23:59:50.678      NaN    NaN      NaN    813.0    NaN\n",
       "2021-07-01 23:59:56.821   1014.0  830.0   1568.0      NaN  888.0\n",
       "2021-07-01 23:59:57.248      NaN    NaN      NaN    814.0    NaN\n",
       "\n",
       "[10497 rows x 5 columns]"
      ]
     },
     "execution_count": 6,
     "metadata": {},
     "output_type": "execute_result"
    }
   ],
   "source": [
    "#corta los datos de la fecha inicial al final\n",
    "datos = datos[\"2021-07-01\":\"2021-07-05\"]\n",
    "datos\n"
   ]
  },
  {
   "cell_type": "code",
   "execution_count": 9,
   "metadata": {},
   "outputs": [
    {
     "data": {
      "text/plain": [
       "<matplotlib.legend.Legend at 0x7f21db45bc10>"
      ]
     },
     "execution_count": 9,
     "metadata": {},
     "output_type": "execute_result"
    },
    {
     "data": {
      "image/png": "[encoded data removed]",
      "text/plain": [
       "<Figure size 720x216 with 1 Axes>"
      ]
     },
     "metadata": {
      "needs_background": "light"
     },
     "output_type": "display_data"
    }
   ],
   "source": [
    "sensores = [\"sen0219\",\"t3022\",\"mh-z14a\",\"sen0220\",\"s8lp\"]\n",
    "\n",
    "fig, ax = plt.subplots(figsize=(10,3))\n",
    "\n",
    "fecha1 = parse(\"2021-07-01\") \n",
    "fecha2 = fecha1 + pd.Timedelta(\"3D\")\n",
    "ax.set_xlim(fecha1,fecha2)\n",
    "\n",
    "ax.set_ylim(300,1000)\n",
    "ax.set_ylabel(\"CO2 [ppm]\")\n",
    "ax.set_xlabel(\"tiempo\")\n",
    "ax.set_title(\"Sensores\")\n",
    "ax.grid()\n",
    "\n",
    "for sensor in sensores:\n",
    "    ax.scatter(datos[sensor].index,datos[sensor],label=sensor,alpha=0.2)\n",
    "\n",
    "ax.legend()\n",
    "\n"
   ]
  },
  {
   "cell_type": "code",
   "execution_count": null,
   "metadata": {},
   "outputs": [],
   "source": [
    "#ajustar fecha si es necesario\n",
    "datos.to_csv(\"../data/sensores_01-07-2021_05-07-2021.csv\")"
   ]
  },
  {
   "cell_type": "code",
   "execution_count": null,
   "metadata": {},
   "outputs": [],
   "source": []
  },
  {
   "cell_type": "code",
   "execution_count": null,
   "metadata": {},
   "outputs": [],
   "source": []
  }
 ],
 "metadata": {
  "kernelspec": {
   "display_name": "Python 3",
   "language": "python",
   "name": "python3"
  },
  "language_info": {
   "codemirror_mode": {
    "name": "ipython",
    "version": 3
   },
   "file_extension": ".py",
   "mimetype": "text/x-python",
   "name": "python",
   "nbconvert_exporter": "python",
   "pygments_lexer": "ipython3",
   "version": "3.8.10"
  }
 },
 "nbformat": 4,
 "nbformat_minor": 4
}

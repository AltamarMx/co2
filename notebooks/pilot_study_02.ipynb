{
 "cells": [
  {
   "cell_type": "code",
   "execution_count": 1,
   "metadata": {},
   "outputs": [],
   "source": [
    "import pandas as pd\n",
    "import numpy as np\n",
    "import matplotlib.pyplot as plt\n",
    "from dateutil.parser import parse\n",
    "from tb import *"
   ]
  },
  {
   "cell_type": "code",
   "execution_count": 2,
   "metadata": {},
   "outputs": [
    {
     "name": "stdout",
     "output_type": "stream",
     "text": [
      "[\"cdm4160\",\"cjmcu811\",\"dummy\",\"eco2\",\"etvoc\",\"fatal\",\"heartbeat\",\"loadavg1\",\"loadavg15\",\"loadavg5\",\"mg811\",\"mh-z14a\",\"notice\",\"s8lp\",\"scd30\",\"sen0219\",\"sen0219avg\",\"sen0219cma\",\"sen0220\",\"t3022\",\"uptime\",\"uptime-linux\"]\n"
     ]
    }
   ],
   "source": [
    "# tb = TB(config_file='config_gbv.ini',device_name='CO2')"
   ]
  },
  {
   "cell_type": "code",
   "execution_count": 11,
   "metadata": {},
   "outputs": [],
   "source": [
    "# sensores = [\"scd30\"]\n",
    "# datos = pd.concat([tb.get_df(key=sensor,\n",
    "#                              start_datetime=\"2021-10-25\",\n",
    "#                              end_datetime=  \"2021-11-05\") for sensor in sensores],axis=1)\n",
    "# datos.index = datos.index + pd.Timedelta(\"-5H\")"
   ]
  },
  {
   "cell_type": "code",
   "execution_count": 12,
   "metadata": {},
   "outputs": [
    {
     "data": {
      "text/plain": [
       "<AxesSubplot:xlabel='ts'>"
      ]
     },
     "execution_count": 12,
     "metadata": {},
     "output_type": "execute_result"
    },
    {
     "data": {
      "image/png": "[encoded data removed]",
      "text/plain": [
       "<Figure size 432x288 with 1 Axes>"
      ]
     },
     "metadata": {
      "needs_background": "light"
     },
     "output_type": "display_data"
    }
   ],
   "source": [
    "# datos.plot()"
   ]
  },
  {
   "cell_type": "code",
   "execution_count": 13,
   "metadata": {},
   "outputs": [],
   "source": [
    "# datos.to_csv(\"../data/pilot_study_scd30.csv\")"
   ]
  },
  {
   "cell_type": "code",
   "execution_count": 14,
   "metadata": {},
   "outputs": [
    {
     "data": {
      "text/html": [
       "<div>\n",
       "<style scoped>\n",
       "    .dataframe tbody tr th:only-of-type {\n",
       "        vertical-align: middle;\n",
       "    }\n",
       "\n",
       "    .dataframe tbody tr th {\n",
       "        vertical-align: top;\n",
       "    }\n",
       "\n",
       "    .dataframe thead th {\n",
       "        text-align: right;\n",
       "    }\n",
       "</style>\n",
       "<table border=\"1\" class=\"dataframe\">\n",
       "  <thead>\n",
       "    <tr style=\"text-align: right;\">\n",
       "      <th></th>\n",
       "      <th>sen0220</th>\n",
       "      <th>s8lp</th>\n",
       "      <th>scd30</th>\n",
       "    </tr>\n",
       "    <tr>\n",
       "      <th>ts</th>\n",
       "      <th></th>\n",
       "      <th></th>\n",
       "      <th></th>\n",
       "    </tr>\n",
       "  </thead>\n",
       "  <tbody>\n",
       "    <tr>\n",
       "      <th>2021-10-24 19:00:00</th>\n",
       "      <td>433.0</td>\n",
       "      <td>428.0</td>\n",
       "      <td>440.0</td>\n",
       "    </tr>\n",
       "    <tr>\n",
       "      <th>2021-10-24 19:01:00</th>\n",
       "      <td>434.0</td>\n",
       "      <td>428.0</td>\n",
       "      <td>442.0</td>\n",
       "    </tr>\n",
       "    <tr>\n",
       "      <th>2021-10-24 19:02:00</th>\n",
       "      <td>434.0</td>\n",
       "      <td>428.0</td>\n",
       "      <td>443.0</td>\n",
       "    </tr>\n",
       "    <tr>\n",
       "      <th>2021-10-24 19:03:00</th>\n",
       "      <td>434.0</td>\n",
       "      <td>428.0</td>\n",
       "      <td>441.0</td>\n",
       "    </tr>\n",
       "    <tr>\n",
       "      <th>2021-10-24 19:04:00</th>\n",
       "      <td>435.0</td>\n",
       "      <td>428.0</td>\n",
       "      <td>442.0</td>\n",
       "    </tr>\n",
       "    <tr>\n",
       "      <th>...</th>\n",
       "      <td>...</td>\n",
       "      <td>...</td>\n",
       "      <td>...</td>\n",
       "    </tr>\n",
       "    <tr>\n",
       "      <th>2021-11-04 18:55:00</th>\n",
       "      <td>404.0</td>\n",
       "      <td>417.0</td>\n",
       "      <td>432.0</td>\n",
       "    </tr>\n",
       "    <tr>\n",
       "      <th>2021-11-04 18:56:00</th>\n",
       "      <td>404.0</td>\n",
       "      <td>419.0</td>\n",
       "      <td>432.0</td>\n",
       "    </tr>\n",
       "    <tr>\n",
       "      <th>2021-11-04 18:57:00</th>\n",
       "      <td>403.0</td>\n",
       "      <td>420.0</td>\n",
       "      <td>433.0</td>\n",
       "    </tr>\n",
       "    <tr>\n",
       "      <th>2021-11-04 18:58:00</th>\n",
       "      <td>403.0</td>\n",
       "      <td>420.0</td>\n",
       "      <td>433.0</td>\n",
       "    </tr>\n",
       "    <tr>\n",
       "      <th>2021-11-04 18:59:00</th>\n",
       "      <td>403.0</td>\n",
       "      <td>421.0</td>\n",
       "      <td>432.0</td>\n",
       "    </tr>\n",
       "  </tbody>\n",
       "</table>\n",
       "<p>15840 rows × 3 columns</p>\n",
       "</div>"
      ],
      "text/plain": [
       "                     sen0220   s8lp  scd30\n",
       "ts                                        \n",
       "2021-10-24 19:00:00    433.0  428.0  440.0\n",
       "2021-10-24 19:01:00    434.0  428.0  442.0\n",
       "2021-10-24 19:02:00    434.0  428.0  443.0\n",
       "2021-10-24 19:03:00    434.0  428.0  441.0\n",
       "2021-10-24 19:04:00    435.0  428.0  442.0\n",
       "...                      ...    ...    ...\n",
       "2021-11-04 18:55:00    404.0  417.0  432.0\n",
       "2021-11-04 18:56:00    404.0  419.0  432.0\n",
       "2021-11-04 18:57:00    403.0  420.0  433.0\n",
       "2021-11-04 18:58:00    403.0  420.0  433.0\n",
       "2021-11-04 18:59:00    403.0  421.0  432.0\n",
       "\n",
       "[15840 rows x 3 columns]"
      ]
     },
     "execution_count": 14,
     "metadata": {},
     "output_type": "execute_result"
    }
   ],
   "source": [
    "sen0220 = pd.read_csv('../data/pilot_study_sen0220.csv',index_col=0,parse_dates=True)\n",
    "s8lp    = pd.read_csv('../data/pilot_study_s8lp.csv',index_col=0,parse_dates=True)\n",
    "scd30   = pd.read_csv('../data/pilot_study_scd30.csv',index_col=0,parse_dates=True)\n",
    "\n",
    "def minuto(df):\n",
    "    return df.resample('1min').bfill()\n",
    "sen0220 = minuto(sen0220)\n",
    "s8lp = minuto(s8lp)\n",
    "scd30 = minuto(scd30)\n",
    "datos = pd.concat([sen0220,s8lp,scd30],axis=1)\n",
    "# datos"
   ]
  },
  {
   "cell_type": "code",
   "execution_count": 22,
   "metadata": {},
   "outputs": [
    {
     "data": {
      "text/plain": [
       "<matplotlib.legend.Legend at 0x7f9e3c5a88e0>"
      ]
     },
     "execution_count": 22,
     "metadata": {},
     "output_type": "execute_result"
    },
    {
     "data": {
      "image/png": "[encoded data removed]",
      "text/plain": [
       "<Figure size 720x216 with 1 Axes>"
      ]
     },
     "metadata": {
      "needs_background": "light"
     },
     "output_type": "display_data"
    }
   ],
   "source": [
    "sensores = [\"s8lp\",\"sen0220\",\"scd30\"]\n",
    "\n",
    "fig, ax = plt.subplots(figsize=(10,3))\n",
    "\n",
    "fecha1 = parse(\"2021-11-03\") \n",
    "fecha2 = fecha1 + pd.Timedelta(\"1D\")\n",
    "ax.set_xlim(fecha1,fecha2)\n",
    "\n",
    "ax.set_ylim(350,1000)\n",
    "ax.set_ylabel(\"CO2 [ppm]\")\n",
    "ax.set_xlabel(\"tiempo\")\n",
    "ax.set_title(\"Sensores\")\n",
    "ax.grid()\n",
    "\n",
    "for sensor in sensores:\n",
    "    ax.scatter(datos[sensor].index,datos[sensor],label=sensor,alpha=0.2)\n",
    "\n",
    "ax.legend()\n",
    "\n"
   ]
  },
  {
   "cell_type": "code",
   "execution_count": null,
   "metadata": {},
   "outputs": [],
   "source": [
    "#corta los datos de la fecha inicial al final\n",
    "datos = datos.truncate(before=\"2021-07-20 14:30:04\",after=\"2021-07-20 15:31:04\")\n",
    "datos"
   ]
  },
  {
   "cell_type": "code",
   "execution_count": null,
   "metadata": {},
   "outputs": [],
   "source": [
    "# sensores = [\"cdm4160\",\"cjmcu811\",\"sen0219\",\"t3022\",\"mh-z14a\",\"sen0220\",\"s8lp\"]\n",
    "sensores = [\"s8lp\",\"sen0220\",\"t3022\",\"scd30\"]\n",
    "# ref = \"fluke\"\n",
    "\n",
    "fig, ax = plt.subplots(figsize=(10,3))\n",
    "\n",
    "# fecha1 = parse(\"2021-07-20 14:25\") \n",
    "# fecha2 = fecha1 + pd.Timedelta(\"3H\")\n",
    "# ax.set_xlim(fecha1,fecha2)\n",
    "\n",
    "ax.set_ylim(300,1000)\n",
    "ax.set_ylabel(\"CO2 [ppm]\")\n",
    "ax.set_xlabel(\"tiempo\")\n",
    "ax.set_title(\"Sensores\")\n",
    "ax.grid()\n",
    "\n",
    "for sensor in sensores:\n",
    "    ax.scatter(datos[sensor].index,datos[sensor],label=sensor,alpha=0.2)\n",
    "\n",
    "ax.legend()\n",
    "\n"
   ]
  },
  {
   "cell_type": "code",
   "execution_count": null,
   "metadata": {},
   "outputs": [],
   "source": [
    "#ajustar fecha si es necesario\n",
    "datos.to_csv(\"../data/sensores_20-07-2021.csv\")"
   ]
  },
  {
   "cell_type": "code",
   "execution_count": null,
   "metadata": {},
   "outputs": [],
   "source": []
  },
  {
   "cell_type": "code",
   "execution_count": null,
   "metadata": {},
   "outputs": [],
   "source": []
  }
 ],
 "metadata": {
  "kernelspec": {
   "display_name": "Python 3",
   "language": "python",
   "name": "python3"
  },
  "language_info": {
   "codemirror_mode": {
    "name": "ipython",
    "version": 3
   },
   "file_extension": ".py",
   "mimetype": "text/x-python",
   "name": "python",
   "nbconvert_exporter": "python",
   "pygments_lexer": "ipython3",
   "version": "3.8.5"
  }
 },
 "nbformat": 4,
 "nbformat_minor": 4
}
